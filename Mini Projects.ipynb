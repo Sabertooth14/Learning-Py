{
 "cells": [
  {
   "cell_type": "markdown",
   "id": "cc8ccdac",
   "metadata": {},
   "source": [
    "# Binary to Decimal and vice versa"
   ]
  },
  {
   "cell_type": "code",
   "execution_count": 1,
   "id": "0a25243a",
   "metadata": {},
   "outputs": [],
   "source": [
    "def dectobin(n):\n",
    "    print(bin(n))"
   ]
  },
  {
   "cell_type": "code",
   "execution_count": 2,
   "id": "cccd1a0d",
   "metadata": {},
   "outputs": [],
   "source": [
    "def bintodec(n):\n",
    "    print(int(n,2))"
   ]
  },
  {
   "cell_type": "code",
   "execution_count": 3,
   "id": "5f454580",
   "metadata": {},
   "outputs": [
    {
     "name": "stdout",
     "output_type": "stream",
     "text": [
      "Do you want to convert your number to Binary or Decimal?\n",
      "Enter bin for binary and dec for decimal: bin\n",
      "Enter a decimal number: 56\n",
      "0b111000\n",
      "Do you want to continue...Enter y or n:n\n"
     ]
    }
   ],
   "source": [
    "bindec = True\n",
    "\n",
    "while True:\n",
    "    print(\"Do you want to convert your number to Binary or Decimal?\")\n",
    "    \n",
    "    while bindec:\n",
    "        x = input('Enter bin for binary and dec for decimal: ')\n",
    "    \n",
    "        if (x=='bin'):\n",
    "            n = int(input(\"Enter a decimal number: \"))\n",
    "            dectobin(n)\n",
    "        \n",
    "        elif(x=='dec'):\n",
    "            n= input(\"Enter a binary number: \")\n",
    "            bintodec(n)\n",
    "        \n",
    "        f = input(\"Do you want to continue...Enter y or n:\")\n",
    "        if (f=='y'):\n",
    "            bindec = True\n",
    "            continue\n",
    "            \n",
    "        elif(f =='n'):\n",
    "            bindec = False\n",
    "            break\n",
    "    break"
   ]
  },
  {
   "cell_type": "code",
   "execution_count": 4,
   "id": "ffc0b6ce",
   "metadata": {},
   "outputs": [],
   "source": [
    "import math"
   ]
  },
  {
   "cell_type": "code",
   "execution_count": 5,
   "id": "c9159021",
   "metadata": {},
   "outputs": [
    {
     "data": {
      "text/plain": [
       "3.141592653589793"
      ]
     },
     "execution_count": 5,
     "metadata": {},
     "output_type": "execute_result"
    }
   ],
   "source": [
    "math.pi"
   ]
  },
  {
   "cell_type": "code",
   "execution_count": 6,
   "id": "62620a55",
   "metadata": {},
   "outputs": [
    {
     "data": {
      "text/plain": [
       "3.14159"
      ]
     },
     "execution_count": 6,
     "metadata": {},
     "output_type": "execute_result"
    }
   ],
   "source": [
    "round(math.pi,5)"
   ]
  },
  {
   "cell_type": "code",
   "execution_count": 7,
   "id": "33262ff8",
   "metadata": {},
   "outputs": [
    {
     "data": {
      "text/plain": [
       "3.141592653589793"
      ]
     },
     "execution_count": 7,
     "metadata": {},
     "output_type": "execute_result"
    }
   ],
   "source": [
    "round(math.pi,50)"
   ]
  },
  {
   "cell_type": "code",
   "execution_count": 8,
   "id": "cfee6ef0",
   "metadata": {},
   "outputs": [
    {
     "data": {
      "text/plain": [
       "2.718281828459045"
      ]
     },
     "execution_count": 8,
     "metadata": {},
     "output_type": "execute_result"
    }
   ],
   "source": [
    "math.e"
   ]
  },
  {
   "cell_type": "code",
   "execution_count": 9,
   "id": "2c187780",
   "metadata": {},
   "outputs": [],
   "source": [
    "#Prime Factorization \n",
    "#Credit Card Validator \n",
    "#Alarm Clock \n",
    "#Coin Flip Simulation\n",
    "#Pig Latin\n",
    "#Country from IP Lookup"
   ]
  },
  {
   "cell_type": "markdown",
   "id": "43ac45b1",
   "metadata": {},
   "source": [
    "# Credit Card Validator"
   ]
  },
  {
   "cell_type": "code",
   "execution_count": 29,
   "id": "7453e1a5",
   "metadata": {},
   "outputs": [
    {
     "name": "stdout",
     "output_type": "stream",
     "text": [
      "Enter your credit card number: ········\n",
      "VISA card\n",
      "Invalid card number 😶‍🌫️\n"
     ]
    }
   ],
   "source": [
    "#take the card number as input\n",
    "import getpass\n",
    "card_num = getpass.getpass(\"Enter your credit card number: \")\n",
    "\n",
    "if (int(card_num[0])==4 and len(card_num)==16):\n",
    "    print(\"VISA card\")\n",
    "    \n",
    "elif(int(card_num[0])==5 and len(card_num)==16):\n",
    "    print(\"MASTERCARD card\")\n",
    "    \n",
    "elif(int(card_num[0])==6 and len(card_num)==16):\n",
    "    print(\"DISCOVER card\")\n",
    "    \n",
    "elif(int(card_num[0])==3 and (card_num[1]==4 or card_num[1]==7) and len(card_num)==15):\n",
    "    print(\"AMERICAN EXPRESS card\")\n",
    "    \n",
    "    \n",
    "#multiply each number by 2 upto the 15th digit\n",
    "m_list = []\n",
    "for i in range(0,15):\n",
    "    if i%2==0:\n",
    "        m_list.append((int(card_num[i])*2))\n",
    "    else:\n",
    "        m_list.append(int(card_num[i]))\n",
    "        \n",
    "        \n",
    "#Check for any 2 digit number, if yes add the digits\n",
    "new_list = []\n",
    "for num in m_list:\n",
    "    add_digits = 0\n",
    "    if num>9:\n",
    "        num = str(num)\n",
    "        add_digits = int(num[0])+int(num[1])\n",
    "        new_list.append(add_digits)\n",
    "    else:\n",
    "        new_list.append(num)\n",
    "        \n",
    "        \n",
    "#add all the 15 digits\n",
    "sum(new_list)\n",
    "\n",
    "#add the 16th digit to the sum\n",
    "total = int(card_num[-1]) + sum(new_list)\n",
    "#print(total)\n",
    "\n",
    "#if it is a multiple of 10 then it is valid\n",
    "if total%10 == 0:\n",
    "    print(\"The card is valid 🤑\")\n",
    "    \n",
    "else:\n",
    "    print(\"Invalid card number 😶‍🌫️\")"
   ]
  },
  {
   "cell_type": "code",
   "execution_count": 11,
   "id": "18c01c67",
   "metadata": {},
   "outputs": [
    {
     "data": {
      "text/plain": [
       "[8, 3, 16, 6, 4, 8, 0, 0, 6, 7, 0, 1, 2, 6, 12]"
      ]
     },
     "execution_count": 11,
     "metadata": {},
     "output_type": "execute_result"
    }
   ],
   "source": [
    "m_list"
   ]
  },
  {
   "cell_type": "code",
   "execution_count": 12,
   "id": "f0e68253",
   "metadata": {},
   "outputs": [
    {
     "data": {
      "text/plain": [
       "[8, 3, 7, 6, 4, 8, 0, 0, 6, 7, 0, 1, 2, 6, 3]"
      ]
     },
     "execution_count": 12,
     "metadata": {},
     "output_type": "execute_result"
    }
   ],
   "source": [
    "new_list"
   ]
  },
  {
   "cell_type": "code",
   "execution_count": 13,
   "id": "92c9e016",
   "metadata": {},
   "outputs": [
    {
     "data": {
      "text/plain": [
       "61"
      ]
     },
     "execution_count": 13,
     "metadata": {},
     "output_type": "execute_result"
    }
   ],
   "source": [
    "sum(new_list)"
   ]
  },
  {
   "cell_type": "code",
   "execution_count": 15,
   "id": "dbdabd6d",
   "metadata": {},
   "outputs": [
    {
     "data": {
      "text/plain": [
       "'4'"
      ]
     },
     "execution_count": 15,
     "metadata": {},
     "output_type": "execute_result"
    }
   ],
   "source": [
    "card_num[0]"
   ]
  },
  {
   "cell_type": "markdown",
   "id": "8050f17c",
   "metadata": {},
   "source": [
    "# Alarm Clock"
   ]
  },
  {
   "cell_type": "code",
   "execution_count": 1,
   "id": "8f221dc4",
   "metadata": {},
   "outputs": [
    {
     "name": "stdout",
     "output_type": "stream",
     "text": [
      "The current time is 18:51:28.459164\n",
      "Enter the hour for the alarm: 18\n",
      "Enter the minutes for the alarm: 52\n",
      "Playing\n"
     ]
    }
   ],
   "source": [
    "#display the current time\n",
    "import datetime\n",
    "current_time = datetime.datetime.now().time()\n",
    "print(f\"The current time is {current_time}\")\n",
    "\n",
    "#ask for the alarm time \n",
    "hrs = int(input(\"Enter the hour for the alarm: \"))\n",
    "mins = int(input(\"Enter the minutes for the alarm: \"))\n",
    "#secs = int(input(\"Enter the seconds for the alarm: \"))\n",
    "#milisecs = int(input(\"Enter the miliseconds for the alarm: \"))\n",
    "\n",
    "#check if the time is done\n",
    "#alarm_time = datetime.time(hrs,mins,secs,milisecs)\n",
    "#import winsound\n",
    "import beepy\n",
    "while True:\n",
    "    #new_time = datetime.datetime.now().time()\n",
    "    frequency = 600\n",
    "   # if(alarm_time==new_time):\n",
    "    if (hrs==datetime.datetime.now().hour and mins == datetime.datetime.now().minute):\n",
    "        print(\"Playing\")\n",
    "        for i in range(5):\n",
    "            beepy.beep(7)\n",
    "        #while True:\n",
    "#             winsound.Beep(frequency,2000)\n",
    "#             frequency+=100\n",
    "#             if frequency==1200:\n",
    "#                 break\n",
    "    else:\n",
    "        continue\n",
    "        \n",
    "    break\n"
   ]
  },
  {
   "cell_type": "code",
   "execution_count": 2,
   "id": "9b64bb6b",
   "metadata": {},
   "outputs": [],
   "source": [
    "import winsound\n",
    "winsound.Beep(1000,3000)"
   ]
  },
  {
   "cell_type": "code",
   "execution_count": 6,
   "id": "8f7b83b7",
   "metadata": {},
   "outputs": [],
   "source": [
    "import beepy as beep\n",
    "#for ii in range(8): \n",
    "beep.beep(10)"
   ]
  },
  {
   "cell_type": "markdown",
   "id": "0113b297",
   "metadata": {},
   "source": [
    "# Coin flip simulation"
   ]
  },
  {
   "cell_type": "code",
   "execution_count": 9,
   "id": "02857f64",
   "metadata": {},
   "outputs": [
    {
     "name": "stdout",
     "output_type": "stream",
     "text": [
      "Enter heads or tails: heads\n",
      "['heads']\n",
      "Congartulations, You have won\n",
      "\n",
      "\n",
      "Do you want to play again?\n",
      "Enter y for yes and n for no: y\n",
      "Enter heads or tails: heads\n",
      "['heads', 'heads']\n",
      "Congartulations, You have won\n",
      "\n",
      "\n",
      "Do you want to play again?\n",
      "Enter y for yes and n for no: n\n",
      "The number of heads are: 3\n",
      "The number of tails are: 0\n"
     ]
    }
   ],
   "source": [
    "#randomly assign a variable head or tail\n",
    "import random\n",
    "coin = [\"heads\",\"tails\"]\n",
    "toss = random.choice(coin)\n",
    "toss_list = []\n",
    "count_heads = 0\n",
    "count_tails = 0\n",
    "#Take input heads or tails\n",
    "while True:\n",
    "    \n",
    "    toss = random.choice(coin)\n",
    "    toss_list.append(toss)\n",
    "    user_choice = input(\"Enter heads or tails: \")\n",
    "    \n",
    "    for i in toss_list:\n",
    "        if(i== 'heads'):\n",
    "            count_heads += 1\n",
    "        if(i=='tails'):\n",
    "            count_tails += 1\n",
    "\n",
    "    print(toss_list)\n",
    "    #If they are same,then they win\n",
    "    if(user_choice==toss):\n",
    "        print(\"Congartulations, You have won\")\n",
    "    else:\n",
    "        print(\"Sorry, you have lost...Try again\")\n",
    "        \n",
    "#     print(f\"The number of heads are: {count_heads}\")\n",
    "#     print(f\"The number of tails are: {count_tails}\")\n",
    "       \n",
    "    #ask if they want to continue\n",
    "    print(\"\\n\")\n",
    "    print(\"Do you want to play again?\")\n",
    "    play_again = input(\"Enter y for yes and n for no: \")\n",
    "    \n",
    "    if(play_again=='y'):\n",
    "        continue\n",
    "    else:\n",
    "        break\n",
    "        \n",
    "    break\n",
    "    \n",
    "    print('\\n')\n",
    "print(f\"The number of heads are: {count_heads}\")\n",
    "print(f\"The number of tails are: {count_tails}\")"
   ]
  },
  {
   "cell_type": "markdown",
   "id": "c4cddf8d",
   "metadata": {},
   "source": [
    "# Country from IP lookup"
   ]
  },
  {
   "cell_type": "code",
   "execution_count": 2,
   "id": "01611053",
   "metadata": {},
   "outputs": [
    {
     "name": "stdout",
     "output_type": "stream",
     "text": [
      "Enter the IP adreess:  115.96.189.187\n",
      "<[OK] Ipinfo - Geocode [Harnai, Maharashtra, IN]>\n",
      "[17.8134, 73.0967]\n"
     ]
    }
   ],
   "source": [
    "import geocoder\n",
    "import folium\n",
    "\n",
    "ip_address =input(\"Enter the IP adreess: \")\n",
    "# ip_address2 = int(input(\"Enter the IP adreess: \"))\n",
    "# ip_address3 = int(input(\"Enter the IP adreess: \"))\n",
    "# ip_address4 = int(input(\"Enter the IP adreess: \"))\n",
    "\n",
    "x = geocoder.ip(ip_address)\n",
    "print(x)\n",
    "lat_long = x.latlng\n",
    "print(lat_long)\n",
    "\n",
    "my_map = folium.Map(location=lat_long,zoom_start=10)\n",
    "folium.CircleMarker(location=lat_long,radius=15).add_to(my_map)\n",
    "my_map.save(\"test_map.html\")\n"
   ]
  },
  {
   "cell_type": "code",
   "execution_count": null,
   "id": "0dff96d6",
   "metadata": {},
   "outputs": [],
   "source": []
  }
 ],
 "metadata": {
  "kernelspec": {
   "display_name": "Python 3",
   "language": "python",
   "name": "python3"
  },
  "language_info": {
   "codemirror_mode": {
    "name": "ipython",
    "version": 3
   },
   "file_extension": ".py",
   "mimetype": "text/x-python",
   "name": "python",
   "nbconvert_exporter": "python",
   "pygments_lexer": "ipython3",
   "version": "3.8.8"
  }
 },
 "nbformat": 4,
 "nbformat_minor": 5
}
