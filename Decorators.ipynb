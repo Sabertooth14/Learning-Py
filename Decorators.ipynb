{
 "cells": [
  {
   "cell_type": "markdown",
   "id": "f39ad86f",
   "metadata": {},
   "source": [
    "A FUNCTION WITHIN A FUNCTION"
   ]
  },
  {
   "cell_type": "code",
   "execution_count": 5,
   "id": "16830391",
   "metadata": {},
   "outputs": [],
   "source": [
    "def calc(name):\n",
    "    print(\"Execution has begun\")\n",
    "    \n",
    "    def add():\n",
    "        return \"The total is: 4\"\n",
    "    \n",
    "    def sub():\n",
    "        return \"The diff is: 3\"\n",
    "    \n",
    "    print(add())\n",
    "    print(sub())\n",
    "    print(\"End of execution\")\n",
    "     "
   ]
  },
  {
   "cell_type": "code",
   "execution_count": 6,
   "id": "270106eb",
   "metadata": {},
   "outputs": [
    {
     "name": "stdout",
     "output_type": "stream",
     "text": [
      "Execution has begun\n",
      "The total is: 4\n",
      "The diff is: 3\n",
      "End of execution\n"
     ]
    }
   ],
   "source": [
    "calc(name=\"pk\")"
   ]
  },
  {
   "cell_type": "markdown",
   "id": "bcc43e50",
   "metadata": {},
   "source": [
    "RETURNING A FUNCTION "
   ]
  },
  {
   "cell_type": "code",
   "execution_count": 10,
   "id": "de85eda0",
   "metadata": {},
   "outputs": [],
   "source": [
    "def calc(name):\n",
    "    print(\"Execution has begun\")\n",
    "    \n",
    "    def add():\n",
    "        return \"The total is: 4\"\n",
    "    \n",
    "    def sub():\n",
    "        return \"The diff is: 3\"\n",
    "    \n",
    "    if name == \"add\":\n",
    "        return add\n",
    "    else:\n",
    "        return sub\n",
    "    \n",
    "    print(\"End of execution\")\n",
    "     "
   ]
  },
  {
   "cell_type": "code",
   "execution_count": 11,
   "id": "c745ff6c",
   "metadata": {},
   "outputs": [
    {
     "data": {
      "text/plain": [
       "<function __main__.calc(name)>"
      ]
     },
     "execution_count": 11,
     "metadata": {},
     "output_type": "execute_result"
    }
   ],
   "source": [
    "calc"
   ]
  },
  {
   "cell_type": "code",
   "execution_count": 13,
   "id": "316c9f31",
   "metadata": {},
   "outputs": [
    {
     "name": "stdout",
     "output_type": "stream",
     "text": [
      "Execution has begun\n"
     ]
    }
   ],
   "source": [
    "new = calc(name = \"add\")"
   ]
  },
  {
   "cell_type": "code",
   "execution_count": 14,
   "id": "9293d9cf",
   "metadata": {},
   "outputs": [
    {
     "data": {
      "text/plain": [
       "'The total is: 4'"
      ]
     },
     "execution_count": 14,
     "metadata": {},
     "output_type": "execute_result"
    }
   ],
   "source": [
    "new()"
   ]
  },
  {
   "cell_type": "markdown",
   "id": "afd701d0",
   "metadata": {},
   "source": [
    "DECORATER"
   ]
  },
  {
   "cell_type": "code",
   "execution_count": 18,
   "id": "22baa5a9",
   "metadata": {},
   "outputs": [],
   "source": [
    "def new_idea(og_func):\n",
    "    \n",
    "    def deco():\n",
    "        print(\"Let's decorate\")\n",
    "        og_func()\n",
    "        print(\"execution completed\")\n",
    "    \n",
    "    return deco\n",
    "\n",
    "def my_func():\n",
    "    for i in range(0,5):\n",
    "        print(i)"
   ]
  },
  {
   "cell_type": "code",
   "execution_count": 20,
   "id": "1cfe4247",
   "metadata": {},
   "outputs": [],
   "source": [
    "x = new_idea(my_func)"
   ]
  },
  {
   "cell_type": "code",
   "execution_count": 21,
   "id": "e41baf51",
   "metadata": {},
   "outputs": [
    {
     "name": "stdout",
     "output_type": "stream",
     "text": [
      "<function new_idea.<locals>.deco at 0x000001E1268F4C10>\n"
     ]
    }
   ],
   "source": [
    "print(x)"
   ]
  },
  {
   "cell_type": "code",
   "execution_count": 22,
   "id": "34de259a",
   "metadata": {},
   "outputs": [
    {
     "name": "stdout",
     "output_type": "stream",
     "text": [
      "0\n",
      "1\n",
      "2\n",
      "3\n",
      "4\n"
     ]
    }
   ],
   "source": [
    "my_func()"
   ]
  },
  {
   "cell_type": "code",
   "execution_count": 23,
   "id": "b232e702",
   "metadata": {},
   "outputs": [],
   "source": [
    "@new_idea\n",
    "def my_func():\n",
    "    for i in range(0,5):\n",
    "        print(i)"
   ]
  },
  {
   "cell_type": "code",
   "execution_count": 24,
   "id": "3dd5e982",
   "metadata": {},
   "outputs": [
    {
     "name": "stdout",
     "output_type": "stream",
     "text": [
      "Let's decorate\n",
      "0\n",
      "1\n",
      "2\n",
      "3\n",
      "4\n",
      "execution completed\n"
     ]
    }
   ],
   "source": [
    "my_func()"
   ]
  },
  {
   "cell_type": "code",
   "execution_count": null,
   "id": "f5df2703",
   "metadata": {},
   "outputs": [],
   "source": []
  }
 ],
 "metadata": {
  "kernelspec": {
   "display_name": "Python 3",
   "language": "python",
   "name": "python3"
  },
  "language_info": {
   "codemirror_mode": {
    "name": "ipython",
    "version": 3
   },
   "file_extension": ".py",
   "mimetype": "text/x-python",
   "name": "python",
   "nbconvert_exporter": "python",
   "pygments_lexer": "ipython3",
   "version": "3.8.8"
  }
 },
 "nbformat": 4,
 "nbformat_minor": 5
}
