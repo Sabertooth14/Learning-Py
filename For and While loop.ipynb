{
 "cells": [
  {
   "cell_type": "code",
   "execution_count": 3,
   "id": "8e164427",
   "metadata": {},
   "outputs": [],
   "source": [
    "st=\"Pranv Karukayil\""
   ]
  },
  {
   "cell_type": "code",
   "execution_count": 4,
   "id": "85415148",
   "metadata": {},
   "outputs": [
    {
     "data": {
      "text/plain": [
       "['Pranv', 'Karukayil']"
      ]
     },
     "execution_count": 4,
     "metadata": {},
     "output_type": "execute_result"
    }
   ],
   "source": [
    "st.split()"
   ]
  },
  {
   "cell_type": "code",
   "execution_count": 9,
   "id": "c0f303a3",
   "metadata": {},
   "outputs": [
    {
     "name": "stdout",
     "output_type": "stream",
     "text": [
      "a\n",
      "r\n"
     ]
    }
   ],
   "source": [
    "for x in st.split():\n",
    "    print(x[2])"
   ]
  },
  {
   "cell_type": "code",
   "execution_count": 12,
   "id": "03560ad2",
   "metadata": {},
   "outputs": [
    {
     "name": "stdout",
     "output_type": "stream",
     "text": [
      "(2, 3)\n",
      "(5, 6)\n",
      "(9, 7)\n"
     ]
    }
   ],
   "source": [
    "list1=[(2,3),(5,6),(9,7)]\n",
    "for a in list1:\n",
    "    print(a)"
   ]
  },
  {
   "cell_type": "code",
   "execution_count": 13,
   "id": "164bf67e",
   "metadata": {},
   "outputs": [],
   "source": [
    "d={\"k1\":4,\"k2\":8,\"k3\":9}"
   ]
  },
  {
   "cell_type": "code",
   "execution_count": 16,
   "id": "cf1877d6",
   "metadata": {},
   "outputs": [
    {
     "name": "stdout",
     "output_type": "stream",
     "text": [
      "k1\n",
      "k2\n",
      "k3\n"
     ]
    }
   ],
   "source": [
    "for x in d:\n",
    "    print(x)"
   ]
  },
  {
   "cell_type": "code",
   "execution_count": 17,
   "id": "39055fc3",
   "metadata": {},
   "outputs": [
    {
     "data": {
      "text/plain": [
       "dict_items([('k1', 4), ('k2', 8), ('k3', 9)])"
      ]
     },
     "execution_count": 17,
     "metadata": {},
     "output_type": "execute_result"
    }
   ],
   "source": [
    "d.items()"
   ]
  },
  {
   "cell_type": "code",
   "execution_count": 18,
   "id": "e7e65e77",
   "metadata": {},
   "outputs": [
    {
     "data": {
      "text/plain": [
       "dict_values([4, 8, 9])"
      ]
     },
     "execution_count": 18,
     "metadata": {},
     "output_type": "execute_result"
    }
   ],
   "source": [
    "d.values()"
   ]
  },
  {
   "cell_type": "code",
   "execution_count": 20,
   "id": "52cd2dfe",
   "metadata": {},
   "outputs": [
    {
     "name": "stdout",
     "output_type": "stream",
     "text": [
      "4\n",
      "k1\n",
      "8\n",
      "k2\n",
      "9\n",
      "k3\n"
     ]
    }
   ],
   "source": [
    "for k,v in d. items():\n",
    "    print(v)\n",
    "    print(k)\n",
    "    "
   ]
  },
  {
   "cell_type": "code",
   "execution_count": 26,
   "id": "3bd9a8b8",
   "metadata": {},
   "outputs": [
    {
     "name": "stdout",
     "output_type": "stream",
     "text": [
      "k1\n",
      "k2\n",
      "k3\n"
     ]
    }
   ],
   "source": [
    "for k,v in d.items():\n",
    "    print(k)"
   ]
  },
  {
   "cell_type": "code",
   "execution_count": 28,
   "id": "706ab48a",
   "metadata": {},
   "outputs": [
    {
     "data": {
      "text/plain": [
       "['k1', 'k2', 'k3']"
      ]
     },
     "execution_count": 28,
     "metadata": {},
     "output_type": "execute_result"
    }
   ],
   "source": [
    "list(d.keys())"
   ]
  },
  {
   "cell_type": "code",
   "execution_count": 29,
   "id": "83a9cefa",
   "metadata": {},
   "outputs": [],
   "source": [
    "l2=[4,3,7,99,10]"
   ]
  },
  {
   "cell_type": "code",
   "execution_count": 30,
   "id": "1c796e04",
   "metadata": {},
   "outputs": [
    {
     "name": "stdout",
     "output_type": "stream",
     "text": [
      "4\n",
      "7\n",
      "14\n",
      "113\n",
      "123\n"
     ]
    }
   ],
   "source": [
    "c=0;\n",
    "for n in l2:\n",
    "    c += n\n",
    "    print (c)"
   ]
  },
  {
   "cell_type": "code",
   "execution_count": 35,
   "id": "68fe3559",
   "metadata": {},
   "outputs": [
    {
     "name": "stdout",
     "output_type": "stream",
     "text": [
      "t\n",
      "h\n",
      "i\n",
      "s\n",
      " \n",
      "i\n",
      "s\n",
      " \n",
      "m\n",
      "y\n",
      " \n",
      "h\n",
      "o\n",
      "u\n",
      "s\n",
      "e\n"
     ]
    }
   ],
   "source": [
    "for w in \"this is my house\":\n",
    "    print(w)"
   ]
  },
  {
   "cell_type": "code",
   "execution_count": 34,
   "id": "56c22002",
   "metadata": {},
   "outputs": [
    {
     "name": "stdout",
     "output_type": "stream",
     "text": [
      "T\n",
      "h\n",
      "i\n",
      "s\n",
      " \n",
      "i\n",
      "s\n",
      " \n",
      "a\n",
      " \n",
      "s\n",
      "t\n",
      "r\n",
      "i\n",
      "n\n",
      "g\n",
      ".\n"
     ]
    }
   ],
   "source": [
    "for letter in 'This is a string.':\n",
    "    print(letter)"
   ]
  },
  {
   "cell_type": "code",
   "execution_count": 5,
   "id": "fa579f75",
   "metadata": {},
   "outputs": [
    {
     "name": "stdout",
     "output_type": "stream",
     "text": [
      "The number is 5\n",
      "The number is 4\n",
      "The number is 3\n",
      "The number is 2\n",
      "The number is 1\n",
      "Complete\n"
     ]
    }
   ],
   "source": [
    "n=5\n",
    "while(n>0):\n",
    "    print(f\"The number is {n}\")\n",
    "    n -= 1\n",
    "else:\n",
    "    print(\"Complete\")"
   ]
  },
  {
   "cell_type": "code",
   "execution_count": 1,
   "id": "d4e6b851",
   "metadata": {},
   "outputs": [
    {
     "name": "stdout",
     "output_type": "stream",
     "text": [
      "0\n",
      "1\n",
      "2\n",
      "3\n"
     ]
    }
   ],
   "source": [
    "n=0\n",
    "while(n<5):\n",
    "    print (n)\n",
    "    n += 1\n",
    "    if n==4:\n",
    "        break\n"
   ]
  },
  {
   "cell_type": "code",
   "execution_count": 2,
   "id": "a71847a9",
   "metadata": {},
   "outputs": [
    {
     "name": "stdout",
     "output_type": "stream",
     "text": [
      "P\n",
      "r\n",
      "a\n",
      "a\n",
      "v\n"
     ]
    }
   ],
   "source": [
    "s1=\"Pranav\"\n",
    "for letter in s1:\n",
    "    if letter == \"n\":\n",
    "        continue\n",
    "    print(letter)"
   ]
  },
  {
   "cell_type": "code",
   "execution_count": 3,
   "id": "c7d42fcc",
   "metadata": {},
   "outputs": [
    {
     "name": "stdout",
     "output_type": "stream",
     "text": [
      "P\n",
      "r\n",
      "a\n"
     ]
    }
   ],
   "source": [
    "s1=\"Pranav\"\n",
    "for letter in s1:\n",
    "    if letter == \"n\":\n",
    "        break\n",
    "    print(letter)"
   ]
  },
  {
   "cell_type": "code",
   "execution_count": null,
   "id": "a7830d8b",
   "metadata": {},
   "outputs": [],
   "source": []
  }
 ],
 "metadata": {
  "kernelspec": {
   "display_name": "Python 3",
   "language": "python",
   "name": "python3"
  },
  "language_info": {
   "codemirror_mode": {
    "name": "ipython",
    "version": 3
   },
   "file_extension": ".py",
   "mimetype": "text/x-python",
   "name": "python",
   "nbconvert_exporter": "python",
   "pygments_lexer": "ipython3",
   "version": "3.8.8"
  }
 },
 "nbformat": 4,
 "nbformat_minor": 5
}
