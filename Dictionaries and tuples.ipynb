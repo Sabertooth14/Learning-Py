{
 "cells": [
  {
   "cell_type": "markdown",
   "id": "1e118e2f",
   "metadata": {},
   "source": [
    "Dictionaries"
   ]
  },
  {
   "cell_type": "code",
   "execution_count": 1,
   "id": "82924dc4",
   "metadata": {},
   "outputs": [],
   "source": [
    "p={'name':'Pranav','age':19,'ht':178,'wt':65}"
   ]
  },
  {
   "cell_type": "code",
   "execution_count": 2,
   "id": "24cd137c",
   "metadata": {},
   "outputs": [
    {
     "data": {
      "text/plain": [
       "{'name': 'Pranav', 'age': 19, 'ht': 178, 'wt': 65}"
      ]
     },
     "execution_count": 2,
     "metadata": {},
     "output_type": "execute_result"
    }
   ],
   "source": [
    "p"
   ]
  },
  {
   "cell_type": "code",
   "execution_count": 3,
   "id": "ce193735",
   "metadata": {},
   "outputs": [
    {
     "data": {
      "text/plain": [
       "178"
      ]
     },
     "execution_count": 3,
     "metadata": {},
     "output_type": "execute_result"
    }
   ],
   "source": [
    "p['ht']"
   ]
  },
  {
   "cell_type": "code",
   "execution_count": 5,
   "id": "2381b586",
   "metadata": {},
   "outputs": [
    {
     "data": {
      "text/plain": [
       "'Pranav'"
      ]
     },
     "execution_count": 5,
     "metadata": {},
     "output_type": "execute_result"
    }
   ],
   "source": [
    "p['name']"
   ]
  },
  {
   "cell_type": "markdown",
   "id": "693583a5",
   "metadata": {},
   "source": [
    " d={'k1':[3,6,9],'k2':['a','B','c']}"
   ]
  },
  {
   "cell_type": "code",
   "execution_count": 9,
   "id": "4d0549c7",
   "metadata": {},
   "outputs": [
    {
     "data": {
      "text/plain": [
       "6"
      ]
     },
     "execution_count": 9,
     "metadata": {},
     "output_type": "execute_result"
    }
   ],
   "source": [
    "d['k1'][1]"
   ]
  },
  {
   "cell_type": "code",
   "execution_count": 12,
   "id": "53d0cb7d",
   "metadata": {},
   "outputs": [
    {
     "data": {
      "text/plain": [
       "'b'"
      ]
     },
     "execution_count": 12,
     "metadata": {},
     "output_type": "execute_result"
    }
   ],
   "source": [
    "d['k2'][1].lower()"
   ]
  },
  {
   "cell_type": "code",
   "execution_count": 13,
   "id": "ff01a0cd",
   "metadata": {},
   "outputs": [
    {
     "data": {
      "text/plain": [
       "{'k1': [3, 6, 9], 'k2': ['a', 'B', 'c']}"
      ]
     },
     "execution_count": 13,
     "metadata": {},
     "output_type": "execute_result"
    }
   ],
   "source": [
    "d"
   ]
  },
  {
   "cell_type": "code",
   "execution_count": 19,
   "id": "011b1274",
   "metadata": {},
   "outputs": [
    {
     "data": {
      "text/plain": [
       "'B'"
      ]
     },
     "execution_count": 19,
     "metadata": {},
     "output_type": "execute_result"
    }
   ],
   "source": [
    "d['k2'].pop()"
   ]
  },
  {
   "cell_type": "code",
   "execution_count": 3,
   "id": "d9ebc034",
   "metadata": {},
   "outputs": [],
   "source": [
    "d={'k1':['a','b','c']}"
   ]
  },
  {
   "cell_type": "code",
   "execution_count": 5,
   "id": "a4eabe4b",
   "metadata": {},
   "outputs": [
    {
     "data": {
      "text/plain": [
       "'A'"
      ]
     },
     "execution_count": 5,
     "metadata": {},
     "output_type": "execute_result"
    }
   ],
   "source": [
    "d['k1'][0].upper()"
   ]
  },
  {
   "cell_type": "code",
   "execution_count": 6,
   "id": "59fb408d",
   "metadata": {},
   "outputs": [
    {
     "data": {
      "text/plain": [
       "{'k1': ['a', 'b', 'c']}"
      ]
     },
     "execution_count": 6,
     "metadata": {},
     "output_type": "execute_result"
    }
   ],
   "source": [
    "d"
   ]
  },
  {
   "cell_type": "code",
   "execution_count": 8,
   "id": "ff8e1893",
   "metadata": {},
   "outputs": [
    {
     "data": {
      "text/plain": [
       "'c'"
      ]
     },
     "execution_count": 8,
     "metadata": {},
     "output_type": "execute_result"
    }
   ],
   "source": [
    "d['k1'].pop()"
   ]
  },
  {
   "cell_type": "code",
   "execution_count": 9,
   "id": "36aedefe",
   "metadata": {},
   "outputs": [
    {
     "data": {
      "text/plain": [
       "{'k1': ['a', 'b']}"
      ]
     },
     "execution_count": 9,
     "metadata": {},
     "output_type": "execute_result"
    }
   ],
   "source": [
    "d"
   ]
  },
  {
   "cell_type": "markdown",
   "id": "ea71d7c8",
   "metadata": {},
   "source": [
    "TUPLES"
   ]
  },
  {
   "cell_type": "code",
   "execution_count": 2,
   "id": "6986fb0e",
   "metadata": {},
   "outputs": [],
   "source": [
    "t=(3,5,3,2,66,7,3)"
   ]
  },
  {
   "cell_type": "code",
   "execution_count": 3,
   "id": "e987ff66",
   "metadata": {},
   "outputs": [
    {
     "data": {
      "text/plain": [
       "3"
      ]
     },
     "execution_count": 3,
     "metadata": {},
     "output_type": "execute_result"
    }
   ],
   "source": [
    "t.count(3)"
   ]
  },
  {
   "cell_type": "code",
   "execution_count": 4,
   "id": "327a85d5",
   "metadata": {},
   "outputs": [
    {
     "data": {
      "text/plain": [
       "0"
      ]
     },
     "execution_count": 4,
     "metadata": {},
     "output_type": "execute_result"
    }
   ],
   "source": [
    "t.index(3)"
   ]
  },
  {
   "cell_type": "code",
   "execution_count": 5,
   "id": "059a1ed6",
   "metadata": {},
   "outputs": [
    {
     "data": {
      "text/plain": [
       "66"
      ]
     },
     "execution_count": 5,
     "metadata": {},
     "output_type": "execute_result"
    }
   ],
   "source": [
    "t[4]"
   ]
  },
  {
   "cell_type": "code",
   "execution_count": 6,
   "id": "fe603614",
   "metadata": {},
   "outputs": [
    {
     "data": {
      "text/plain": [
       "(2, 7)"
      ]
     },
     "execution_count": 6,
     "metadata": {},
     "output_type": "execute_result"
    }
   ],
   "source": [
    "t[3:6:2]"
   ]
  },
  {
   "cell_type": "code",
   "execution_count": 7,
   "id": "c5b9fd55",
   "metadata": {},
   "outputs": [
    {
     "data": {
      "text/plain": [
       "2"
      ]
     },
     "execution_count": 7,
     "metadata": {},
     "output_type": "execute_result"
    }
   ],
   "source": [
    "t[3]"
   ]
  },
  {
   "cell_type": "code",
   "execution_count": 10,
   "id": "199e362f",
   "metadata": {},
   "outputs": [],
   "source": [
    "mylist=[]\n",
    "for items in t:\n",
    "    if items%2==0:\n",
    "        mylist.append(items)\n",
    "    else:\n",
    "        pass"
   ]
  },
  {
   "cell_type": "code",
   "execution_count": 11,
   "id": "2bffebb7",
   "metadata": {},
   "outputs": [
    {
     "data": {
      "text/plain": [
       "[2, 66]"
      ]
     },
     "execution_count": 11,
     "metadata": {},
     "output_type": "execute_result"
    }
   ],
   "source": [
    "mylist"
   ]
  },
  {
   "cell_type": "code",
   "execution_count": null,
   "id": "a3253ea3",
   "metadata": {},
   "outputs": [],
   "source": []
  }
 ],
 "metadata": {
  "kernelspec": {
   "display_name": "Python 3",
   "language": "python",
   "name": "python3"
  },
  "language_info": {
   "codemirror_mode": {
    "name": "ipython",
    "version": 3
   },
   "file_extension": ".py",
   "mimetype": "text/x-python",
   "name": "python",
   "nbconvert_exporter": "python",
   "pygments_lexer": "ipython3",
   "version": "3.8.8"
  }
 },
 "nbformat": 4,
 "nbformat_minor": 5
}
