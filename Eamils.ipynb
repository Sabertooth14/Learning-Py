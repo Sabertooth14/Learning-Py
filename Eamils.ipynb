{
 "cells": [
  {
   "cell_type": "markdown",
   "id": "43987836",
   "metadata": {},
   "source": [
    "# Sending an email\n"
   ]
  },
  {
   "cell_type": "code",
   "execution_count": 1,
   "id": "9c167151",
   "metadata": {},
   "outputs": [],
   "source": [
    "import smtplib"
   ]
  },
  {
   "cell_type": "code",
   "execution_count": 2,
   "id": "53399a72",
   "metadata": {},
   "outputs": [],
   "source": [
    "mail_obj = smtplib.SMTP('smtp.gmail.com',587)"
   ]
  },
  {
   "cell_type": "code",
   "execution_count": 3,
   "id": "fabde5ac",
   "metadata": {},
   "outputs": [
    {
     "data": {
      "text/plain": [
       "(250,\n",
       " b'smtp.gmail.com at your service, [203.212.203.177]\\nSIZE 35882577\\n8BITMIME\\nSTARTTLS\\nENHANCEDSTATUSCODES\\nPIPELINING\\nCHUNKING\\nSMTPUTF8')"
      ]
     },
     "execution_count": 3,
     "metadata": {},
     "output_type": "execute_result"
    }
   ],
   "source": [
    "mail_obj.ehlo()"
   ]
  },
  {
   "cell_type": "code",
   "execution_count": 4,
   "id": "c5623cc4",
   "metadata": {},
   "outputs": [
    {
     "data": {
      "text/plain": [
       "(220, b'2.0.0 Ready to start TLS')"
      ]
     },
     "execution_count": 4,
     "metadata": {},
     "output_type": "execute_result"
    }
   ],
   "source": [
    "mail_obj.starttls()"
   ]
  },
  {
   "cell_type": "code",
   "execution_count": 5,
   "id": "8e7168e7",
   "metadata": {},
   "outputs": [],
   "source": [
    "import getpass"
   ]
  },
  {
   "cell_type": "code",
   "execution_count": 9,
   "id": "0b62834f",
   "metadata": {},
   "outputs": [
    {
     "name": "stdout",
     "output_type": "stream",
     "text": [
      "Enter your mail id: ········\n",
      "Password: ········\n"
     ]
    },
    {
     "data": {
      "text/plain": [
       "(235, b'2.7.0 Accepted')"
      ]
     },
     "execution_count": 9,
     "metadata": {},
     "output_type": "execute_result"
    }
   ],
   "source": [
    "sender = getpass.getpass(\"Enter your mail id: \")\n",
    "Password = getpass.getpass(\"Password: \")\n",
    "mail_obj.login(sender,Password)"
   ]
  },
  {
   "cell_type": "code",
   "execution_count": 11,
   "id": "cbb45420",
   "metadata": {},
   "outputs": [
    {
     "name": "stdout",
     "output_type": "stream",
     "text": [
      "Enter mail id: ········\n",
      "SUbject line: Learning python\n",
      "Msg: Hello, I m your friend Pranav...I have learnt to send mail using python\n"
     ]
    },
    {
     "data": {
      "text/plain": [
       "{}"
      ]
     },
     "execution_count": 11,
     "metadata": {},
     "output_type": "execute_result"
    }
   ],
   "source": [
    "from_mail = sender\n",
    "to_mail = getpass.getpass(\"Enter mail id: \")\n",
    "subject = input(\"SUbject line: \")\n",
    "body = input(\"Msg: \")\n",
    "message = \"SUbject: \"+subject+ '\\n'+body\n",
    "mail_obj.sendmail(from_mail,to_mail,message)"
   ]
  },
  {
   "cell_type": "code",
   "execution_count": 12,
   "id": "b38601f2",
   "metadata": {},
   "outputs": [
    {
     "data": {
      "text/plain": [
       "(221, b'2.0.0 closing connection z2sm8516319pge.86 - gsmtp')"
      ]
     },
     "execution_count": 12,
     "metadata": {},
     "output_type": "execute_result"
    }
   ],
   "source": [
    "mail_obj.quit()"
   ]
  },
  {
   "cell_type": "markdown",
   "id": "e23a8eb3",
   "metadata": {},
   "source": [
    "# Viewing a mail"
   ]
  },
  {
   "cell_type": "code",
   "execution_count": 1,
   "id": "072d1eb2",
   "metadata": {},
   "outputs": [],
   "source": [
    "import imaplib "
   ]
  },
  {
   "cell_type": "code",
   "execution_count": 2,
   "id": "6065dd88",
   "metadata": {},
   "outputs": [],
   "source": [
    "M = imaplib.IMAP4_SSL('imap.gmail.com')"
   ]
  },
  {
   "cell_type": "code",
   "execution_count": 3,
   "id": "186c7754",
   "metadata": {},
   "outputs": [],
   "source": [
    "import getpass"
   ]
  },
  {
   "cell_type": "code",
   "execution_count": 4,
   "id": "1c0f6fa5",
   "metadata": {},
   "outputs": [
    {
     "name": "stdout",
     "output_type": "stream",
     "text": [
      "email: ········\n",
      "password: ········\n"
     ]
    },
    {
     "data": {
      "text/plain": [
       "('OK', [b'capricornpranav420@gmail.com authenticated (Success)'])"
      ]
     },
     "execution_count": 4,
     "metadata": {},
     "output_type": "execute_result"
    }
   ],
   "source": [
    "mail = getpass.getpass(\"email: \")\n",
    "password = getpass.getpass(\"password: \")\n",
    "\n",
    "M.login(mail,password)"
   ]
  },
  {
   "cell_type": "code",
   "execution_count": 5,
   "id": "35030949",
   "metadata": {},
   "outputs": [
    {
     "data": {
      "text/plain": [
       "('OK',\n",
       " [b'(\\\\HasNoChildren) \"/\" \"INBOX\"',\n",
       "  b'(\\\\HasChildren \\\\Noselect) \"/\" \"[Gmail]\"',\n",
       "  b'(\\\\All \\\\HasNoChildren) \"/\" \"[Gmail]/All Mail\"',\n",
       "  b'(\\\\Drafts \\\\HasNoChildren) \"/\" \"[Gmail]/Drafts\"',\n",
       "  b'(\\\\HasNoChildren \\\\Important) \"/\" \"[Gmail]/Important\"',\n",
       "  b'(\\\\HasNoChildren \\\\Sent) \"/\" \"[Gmail]/Sent Mail\"',\n",
       "  b'(\\\\HasNoChildren \\\\Junk) \"/\" \"[Gmail]/Spam\"',\n",
       "  b'(\\\\Flagged \\\\HasNoChildren) \"/\" \"[Gmail]/Starred\"',\n",
       "  b'(\\\\HasNoChildren \\\\Trash) \"/\" \"[Gmail]/Trash\"'])"
      ]
     },
     "execution_count": 5,
     "metadata": {},
     "output_type": "execute_result"
    }
   ],
   "source": [
    "M.list()"
   ]
  },
  {
   "cell_type": "code",
   "execution_count": 6,
   "id": "fb44324c",
   "metadata": {},
   "outputs": [
    {
     "data": {
      "text/plain": [
       "('OK', [b'22'])"
      ]
     },
     "execution_count": 6,
     "metadata": {},
     "output_type": "execute_result"
    }
   ],
   "source": [
    "M.select('inbox')"
   ]
  },
  {
   "cell_type": "code",
   "execution_count": 21,
   "id": "9213c5c9",
   "metadata": {},
   "outputs": [],
   "source": [
    "typ, data = M.search(None,'SUBJECT \"Viewing emails with python\"')"
   ]
  },
  {
   "cell_type": "code",
   "execution_count": 22,
   "id": "0df72a03",
   "metadata": {},
   "outputs": [
    {
     "data": {
      "text/plain": [
       "'OK'"
      ]
     },
     "execution_count": 22,
     "metadata": {},
     "output_type": "execute_result"
    }
   ],
   "source": [
    "typ"
   ]
  },
  {
   "cell_type": "code",
   "execution_count": 23,
   "id": "ff47df11",
   "metadata": {},
   "outputs": [
    {
     "data": {
      "text/plain": [
       "[b'']"
      ]
     },
     "execution_count": 23,
     "metadata": {},
     "output_type": "execute_result"
    }
   ],
   "source": [
    "data"
   ]
  },
  {
   "cell_type": "code",
   "execution_count": 24,
   "id": "41b0d626",
   "metadata": {},
   "outputs": [
    {
     "ename": "error",
     "evalue": "FETCH command error: BAD [b'Could not parse command']",
     "output_type": "error",
     "traceback": [
      "\u001b[1;31m---------------------------------------------------------------------------\u001b[0m",
      "\u001b[1;31merror\u001b[0m                                     Traceback (most recent call last)",
      "\u001b[1;32m<ipython-input-24-94c6b5771045>\u001b[0m in \u001b[0;36m<module>\u001b[1;34m\u001b[0m\n\u001b[1;32m----> 1\u001b[1;33m \u001b[0mresult\u001b[0m\u001b[1;33m,\u001b[0m\u001b[0mmail_data\u001b[0m \u001b[1;33m=\u001b[0m \u001b[0mM\u001b[0m\u001b[1;33m.\u001b[0m\u001b[0mfetch\u001b[0m\u001b[1;33m(\u001b[0m\u001b[0mdata\u001b[0m\u001b[1;33m[\u001b[0m\u001b[1;36m0\u001b[0m\u001b[1;33m]\u001b[0m\u001b[1;33m,\u001b[0m\u001b[1;34m'(RFC822)'\u001b[0m\u001b[1;33m)\u001b[0m\u001b[1;33m\u001b[0m\u001b[1;33m\u001b[0m\u001b[0m\n\u001b[0m",
      "\u001b[1;32m~\\anaconda3\\lib\\imaplib.py\u001b[0m in \u001b[0;36mfetch\u001b[1;34m(self, message_set, message_parts)\u001b[0m\n\u001b[0;32m    537\u001b[0m         \"\"\"\n\u001b[0;32m    538\u001b[0m         \u001b[0mname\u001b[0m \u001b[1;33m=\u001b[0m \u001b[1;34m'FETCH'\u001b[0m\u001b[1;33m\u001b[0m\u001b[1;33m\u001b[0m\u001b[0m\n\u001b[1;32m--> 539\u001b[1;33m         \u001b[0mtyp\u001b[0m\u001b[1;33m,\u001b[0m \u001b[0mdat\u001b[0m \u001b[1;33m=\u001b[0m \u001b[0mself\u001b[0m\u001b[1;33m.\u001b[0m\u001b[0m_simple_command\u001b[0m\u001b[1;33m(\u001b[0m\u001b[0mname\u001b[0m\u001b[1;33m,\u001b[0m \u001b[0mmessage_set\u001b[0m\u001b[1;33m,\u001b[0m \u001b[0mmessage_parts\u001b[0m\u001b[1;33m)\u001b[0m\u001b[1;33m\u001b[0m\u001b[1;33m\u001b[0m\u001b[0m\n\u001b[0m\u001b[0;32m    540\u001b[0m         \u001b[1;32mreturn\u001b[0m \u001b[0mself\u001b[0m\u001b[1;33m.\u001b[0m\u001b[0m_untagged_response\u001b[0m\u001b[1;33m(\u001b[0m\u001b[0mtyp\u001b[0m\u001b[1;33m,\u001b[0m \u001b[0mdat\u001b[0m\u001b[1;33m,\u001b[0m \u001b[0mname\u001b[0m\u001b[1;33m)\u001b[0m\u001b[1;33m\u001b[0m\u001b[1;33m\u001b[0m\u001b[0m\n\u001b[0;32m    541\u001b[0m \u001b[1;33m\u001b[0m\u001b[0m\n",
      "\u001b[1;32m~\\anaconda3\\lib\\imaplib.py\u001b[0m in \u001b[0;36m_simple_command\u001b[1;34m(self, name, *args)\u001b[0m\n\u001b[0;32m   1203\u001b[0m     \u001b[1;32mdef\u001b[0m \u001b[0m_simple_command\u001b[0m\u001b[1;33m(\u001b[0m\u001b[0mself\u001b[0m\u001b[1;33m,\u001b[0m \u001b[0mname\u001b[0m\u001b[1;33m,\u001b[0m \u001b[1;33m*\u001b[0m\u001b[0margs\u001b[0m\u001b[1;33m)\u001b[0m\u001b[1;33m:\u001b[0m\u001b[1;33m\u001b[0m\u001b[1;33m\u001b[0m\u001b[0m\n\u001b[0;32m   1204\u001b[0m \u001b[1;33m\u001b[0m\u001b[0m\n\u001b[1;32m-> 1205\u001b[1;33m         \u001b[1;32mreturn\u001b[0m \u001b[0mself\u001b[0m\u001b[1;33m.\u001b[0m\u001b[0m_command_complete\u001b[0m\u001b[1;33m(\u001b[0m\u001b[0mname\u001b[0m\u001b[1;33m,\u001b[0m \u001b[0mself\u001b[0m\u001b[1;33m.\u001b[0m\u001b[0m_command\u001b[0m\u001b[1;33m(\u001b[0m\u001b[0mname\u001b[0m\u001b[1;33m,\u001b[0m \u001b[1;33m*\u001b[0m\u001b[0margs\u001b[0m\u001b[1;33m)\u001b[0m\u001b[1;33m)\u001b[0m\u001b[1;33m\u001b[0m\u001b[1;33m\u001b[0m\u001b[0m\n\u001b[0m\u001b[0;32m   1206\u001b[0m \u001b[1;33m\u001b[0m\u001b[0m\n\u001b[0;32m   1207\u001b[0m \u001b[1;33m\u001b[0m\u001b[0m\n",
      "\u001b[1;32m~\\anaconda3\\lib\\imaplib.py\u001b[0m in \u001b[0;36m_command_complete\u001b[1;34m(self, name, tag)\u001b[0m\n\u001b[0;32m   1028\u001b[0m             \u001b[0mself\u001b[0m\u001b[1;33m.\u001b[0m\u001b[0m_check_bye\u001b[0m\u001b[1;33m(\u001b[0m\u001b[1;33m)\u001b[0m\u001b[1;33m\u001b[0m\u001b[1;33m\u001b[0m\u001b[0m\n\u001b[0;32m   1029\u001b[0m         \u001b[1;32mif\u001b[0m \u001b[0mtyp\u001b[0m \u001b[1;33m==\u001b[0m \u001b[1;34m'BAD'\u001b[0m\u001b[1;33m:\u001b[0m\u001b[1;33m\u001b[0m\u001b[1;33m\u001b[0m\u001b[0m\n\u001b[1;32m-> 1030\u001b[1;33m             \u001b[1;32mraise\u001b[0m \u001b[0mself\u001b[0m\u001b[1;33m.\u001b[0m\u001b[0merror\u001b[0m\u001b[1;33m(\u001b[0m\u001b[1;34m'%s command error: %s %s'\u001b[0m \u001b[1;33m%\u001b[0m \u001b[1;33m(\u001b[0m\u001b[0mname\u001b[0m\u001b[1;33m,\u001b[0m \u001b[0mtyp\u001b[0m\u001b[1;33m,\u001b[0m \u001b[0mdata\u001b[0m\u001b[1;33m)\u001b[0m\u001b[1;33m)\u001b[0m\u001b[1;33m\u001b[0m\u001b[1;33m\u001b[0m\u001b[0m\n\u001b[0m\u001b[0;32m   1031\u001b[0m         \u001b[1;32mreturn\u001b[0m \u001b[0mtyp\u001b[0m\u001b[1;33m,\u001b[0m \u001b[0mdata\u001b[0m\u001b[1;33m\u001b[0m\u001b[1;33m\u001b[0m\u001b[0m\n\u001b[0;32m   1032\u001b[0m \u001b[1;33m\u001b[0m\u001b[0m\n",
      "\u001b[1;31merror\u001b[0m: FETCH command error: BAD [b'Could not parse command']"
     ]
    }
   ],
   "source": [
    "result,mail_data = M.fetch(data[0],'(RFC822)')"
   ]
  },
  {
   "cell_type": "code",
   "execution_count": 16,
   "id": "73a7d863",
   "metadata": {},
   "outputs": [
    {
     "data": {
      "text/plain": [
       "b'Delivered-To: capricornpranav420@gmail.com\\r\\nReceived: by 2002:a05:7010:5922:b0:1e5:b94e:abc with SMTP id q34csp2950308mdk;\\r\\n        Tue, 11 Jan 2022 21:35:06 -0800 (PST)\\r\\nX-Received: by 2002:a05:6a00:1402:b0:4bc:a31c:72c1 with SMTP id l2-20020a056a00140200b004bca31c72c1mr7773900pfu.66.1641965706530;\\r\\n        Tue, 11 Jan 2022 21:35:06 -0800 (PST)\\r\\nARC-Seal: i=1; a=rsa-sha256; t=1641965706; cv=none;\\r\\n        d=google.com; s=arc-20160816;\\r\\n        b=KbMcuZif/Vr9sXxwsVcfLk/HQGJelftd9p98VidqFRcUGXqaqcFlTDwkqnccl0k3An\\r\\n         4wOnESWVDNzLIe5JOZQZh7veIyGIr3vGee+gnrKafn1cgcNedks4PkJN5FQ5hJ5GAPbl\\r\\n         B5AOz6q7FOamouFjlaNWvtOeaVp5dWeNKHCC/a+YoCXf21Ta2hZAfcZ0QAoU8M7wubYX\\r\\n         wYaP8oZ8GCZvP82u9FVBK2BK1iEpQx2GuuMrChwaEx4NkAwi3C2xMdyMT4kFj2xkFrR/\\r\\n         Jpawydfgd2RZNOMw9VJ6125ZF1xWVAqdpo8r7W6q/gnZVEtBaxhGhhl8e+U129tfbDh+\\r\\n         r21w==\\r\\nARC-Message-Signature: i=1; a=rsa-sha256; c=relaxed/relaxed; d=google.com; s=arc-20160816;\\r\\n        h=to:from:subject:message-id:feedback-id:date:mime-version\\r\\n         :dkim-signature;\\r\\n        bh=oAhxGL72QiTZxn0zr2xtGedI3SxD3Li13mEWYjPIzCA=;\\r\\n        b=SNE8NTBjZPOrBJ5lMTFoN41ejmGhrAFm6GebZV6j7h54dCBzHrLsLguRGt9rwxJHfu\\r\\n         yCM6HtsKVsj5b2vO2epULBYUb/f80b7bu8Hpi61uIlEtGl/oikCLXjuVy15G+7Qjm5/r\\r\\n         XGVT7YLarxuJ33Smvw6a3lLsY1GKo8P8kJvKpE5P95WeqCbRgOxncJove2Yy/bF4qs1L\\r\\n         BQLUvzQvf5fboQ2AdsG8zGLEXti8J/cbn5F1wsuxAoI1P7vkY1Evau+CfFLr0spSlN3C\\r\\n         Ed6b/WE/8JRIoaC6xDotZihbhxm8j8cNHUPtWbEsmyU6+w/5KDzfB2j4IXdAVHO7Q77O\\r\\n         12PQ==\\r\\nARC-Authentication-Results: i=1; mx.google.com;\\r\\n       dkim=pass header.i=@accounts.google.com header.s=20210112 header.b=\"LNjZHNf/\";\\r\\n       spf=pass (google.com: domain of 3imjeyqgtaokyz-cpawjlnnzfyed.rzzrwp.nzx@gaia.bounces.google.com designates 209.85.220.73 as permitted sender) smtp.mailfrom=3imjeYQgTAOkYZ-cPaWjLNNZfYed.RZZRWP.NZX@gaia.bounces.google.com;\\r\\n       dmarc=pass (p=REJECT sp=REJECT dis=NONE) header.from=accounts.google.com\\r\\nReturn-Path: <3imjeYQgTAOkYZ-cPaWjLNNZfYed.RZZRWP.NZX@gaia.bounces.google.com>\\r\\nReceived: from mail-sor-f73.google.com (mail-sor-f73.google.com. [209.85.220.73])\\r\\n        by mx.google.com with SMTPS id q18sor4857227pls.14.2022.01.11.21.35.06\\r\\n        for <capricornpranav420@gmail.com>\\r\\n        (Google Transport Security);\\r\\n        Tue, 11 Jan 2022 21:35:06 -0800 (PST)\\r\\nReceived-SPF: pass (google.com: domain of 3imjeyqgtaokyz-cpawjlnnzfyed.rzzrwp.nzx@gaia.bounces.google.com designates 209.85.220.73 as permitted sender) client-ip=209.85.220.73;\\r\\nAuthentication-Results: mx.google.com;\\r\\n       dkim=pass header.i=@accounts.google.com header.s=20210112 header.b=\"LNjZHNf/\";\\r\\n       spf=pass (google.com: domain of 3imjeyqgtaokyz-cpawjlnnzfyed.rzzrwp.nzx@gaia.bounces.google.com designates 209.85.220.73 as permitted sender) smtp.mailfrom=3imjeYQgTAOkYZ-cPaWjLNNZfYed.RZZRWP.NZX@gaia.bounces.google.com;\\r\\n       dmarc=pass (p=REJECT sp=REJECT dis=NONE) header.from=accounts.google.com\\r\\nDKIM-Signature: v=1; a=rsa-sha256; c=relaxed/relaxed;\\r\\n        d=accounts.google.com; s=20210112;\\r\\n        h=mime-version:date:feedback-id:message-id:subject:from:to;\\r\\n        bh=oAhxGL72QiTZxn0zr2xtGedI3SxD3Li13mEWYjPIzCA=;\\r\\n        b=LNjZHNf/u3e2A0QxKOQH8lhUBWR5VBWyFTZ7AhHrD8Kp613jD6UQUtI+EnQheV649x\\r\\n         /CEIYmHk4jsen7/oCpvzLcInNV/CjqGJiWbQrCCb/fpTgDoLMcz67p8CJWHDJqxrYiPn\\r\\n         luXgfMXXeYx66tZEt1LqCdyGb5t8Zratee94+JQy5wm/6sj3TcMAMTaINjV6LP8DYaKA\\r\\n         qaPHZx962cNMLE5y6dOvj7e2JL1gVEjVuJZxjAR8e4Wcq47RPhNbhm5LCwJwY1UKLNu/\\r\\n         S0a+L1vVwrdTYoX+HPrNcWVFgjv1BiEuxj5qrgPk6i2t4QbQuFd0hTU35NQaeuFXWE0V\\r\\n         PI1g==\\r\\nX-Google-DKIM-Signature: v=1; a=rsa-sha256; c=relaxed/relaxed;\\r\\n        d=1e100.net; s=20210112;\\r\\n        h=x-gm-message-state:mime-version:date:feedback-id:message-id:subject\\r\\n         :from:to;\\r\\n        bh=oAhxGL72QiTZxn0zr2xtGedI3SxD3Li13mEWYjPIzCA=;\\r\\n        b=2w7yoJR8Ol/6PbrxAX9WxH2U8lv56FzrchKUHGhv9FUrbcuz8narJuejVpXgfn3iOO\\r\\n         H/BEWNr+qh9RKDvVAg7vhMAfq0tdZ7xci1Sr6II0ws2CW8eM9n459xZVDQczo+auF2PV\\r\\n         FEFPiNJlHKyQgGOS4p4G200tszN/KGU12u5WMj0rbWw/nPM5lO0qFzvZmpXNX8L0PSue\\r\\n         xeblJPqi9czuFiEjmOUM6Qpwma1AbCYwVgG4QA+gaXJBFBFQf8vVJUYXRpjvhZdAAa40\\r\\n         W1OaEEoorSxLaqA92ZJ+x/YEtNnzTrjmoXz9QAetWthRYp8GuP1BSKEfzeK2jfRmNqyW\\r\\n         CTgw==\\r\\nX-Gm-Message-State: AOAM531HbKp+FgGTa+xZ6sYlMrCK1poX8O7NIXWK6GL7YDT3FdxZAhji\\r\\n\\tgvBQ4wqjRMbkMFyiF0W42HnauDWGMVr0Tinv03pH0g==\\r\\nX-Google-Smtp-Source: ABdhPJzf5eVX97zFaqp5G9YmaRMTF9ELw9W0IrHDhM1d/VhiO0xyq538Ar7oYeb/9lMVzaQwkJsELuwivQVh1PlIFjhIBg==\\r\\nMIME-Version: 1.0\\r\\nX-Received: by 2002:a17:902:7592:b0:149:b7bf:9c02 with SMTP id\\r\\n j18-20020a170902759200b00149b7bf9c02mr7819747pll.32.1641965706230; Tue, 11\\r\\n Jan 2022 21:35:06 -0800 (PST)\\r\\nDate: Wed, 12 Jan 2022 05:35:05 GMT\\r\\nX-Account-Notification-Type: 20-anexp#nret-fa\\r\\nFeedback-ID: 20-anexp#nret-fa:account-notifier\\r\\nX-Notifications: 2fa2975fc6500000\\r\\nX-Notifications-Bounce-Info: AXvZQxfu0G3baLrkxBhN_wGWWUDPiLkc5aIqigtRIEOnbgaQAYfcrKUcY6lIwyypQ7xUDIPRrfNL5fkZcnpuxyqrCorzMDG-odm8-VRi00TzwX4AnfD9gYJli3z06il85SIBZHr9hqd4wxbxoaQa_vyeCZRVShyosV5CUCWhuSC6NjAwNjA0MDQxNTM1NTk2OTMzMg\\r\\nMessage-ID: <aEEx4u4aIN6RDzL9nIjm_Q@notifications.google.com>\\r\\nSubject: Security alert\\r\\nFrom: Google <no-reply@accounts.google.com>\\r\\nTo: capricornpranav420@gmail.com\\r\\nContent-Type: multipart/alternative; boundary=\"000000000000a73b2f05d55bee53\"\\r\\n\\r\\n--000000000000a73b2f05d55bee53\\r\\nContent-Type: text/plain; charset=\"UTF-8\"; format=flowed; delsp=yes\\r\\nContent-Transfer-Encoding: base64\\r\\n\\r\\nW2ltYWdlOiBHb29nbGVdDQpBcHAgcGFzc3dvcmQgY3JlYXRlZCB0byBzaWduIGluIHRvIHlvdXIg\\r\\nYWNjb3VudA0KDQoNCmNhcHJpY29ybnByYW5hdjQyMEBnbWFpbC5jb20NCklmIHlvdSBkaWRuJ3Qg\\r\\nZ2VuZXJhdGUgdGhpcyBwYXNzd29yZCBmb3IgVmlld2luZywgc29tZW9uZSBtaWdodCBiZSB1c2lu\\r\\nZw0KeW91ciBhY2NvdW50LiBDaGVjayBhbmQgc2VjdXJlIHlvdXIgYWNjb3VudCBub3cuDQpDaGVj\\r\\nayBhY3Rpdml0eQ0KPGh0dHBzOi8vYWNjb3VudHMuZ29vZ2xlLmNvbS9BY2NvdW50Q2hvb3Nlcj9F\\r\\nbWFpbD1jYXByaWNvcm5wcmFuYXY0MjBAZ21haWwuY29tJmNvbnRpbnVlPWh0dHBzOi8vbXlhY2Nv\\r\\ndW50Lmdvb2dsZS5jb20vYWxlcnQvbnQvMTY0MTk2NTcwNTczMz9yZm4lM0QyMCUyNnJmbmMlM0Qx\\r\\nJTI2ZWlkJTNELTgwNjM3NDAyMTA2MTc4Njg4NzIlMjZldCUzRDAlMjZhbmV4cCUzRG5yZXQtZmE+\\r\\nDQpZb3UgY2FuIGFsc28gc2VlIHNlY3VyaXR5IGFjdGl2aXR5IGF0DQpodHRwczovL215YWNjb3Vu\\r\\ndC5nb29nbGUuY29tL25vdGlmaWNhdGlvbnMNCllvdSByZWNlaXZlZCB0aGlzIGVtYWlsIHRvIGxl\\r\\ndCB5b3Uga25vdyBhYm91dCBpbXBvcnRhbnQgY2hhbmdlcyB0byB5b3VyDQpHb29nbGUgQWNjb3Vu\\r\\ndCBhbmQgc2VydmljZXMuDQrCqSAyMDIyIEdvb2dsZSBMTEMsIDE2MDAgQW1waGl0aGVhdHJlIFBh\\r\\ncmt3YXksIE1vdW50YWluIFZpZXcsIENBIDk0MDQzLCBVU0ENCg==\\r\\n--000000000000a73b2f05d55bee53\\r\\nContent-Type: text/html; charset=\"UTF-8\"\\r\\nContent-Transfer-Encoding: quoted-printable\\r\\n\\r\\n<!DOCTYPE html><html lang=3D\"en\"><head><meta name=3D\"format-detection\" cont=\\r\\nent=3D\"email=3Dno\"/><meta name=3D\"format-detection\" content=3D\"date=3Dno\"/>=\\r\\n<style nonce=3D\"+8UZvu73U40RP4PKy0RQmw\">.awl a {color: #FFFFFF; text-decora=\\r\\ntion: none;} .abml a {color: #000000; font-family: Roboto-Medium,Helvetica,=\\r\\nArial,sans-serif; font-weight: bold; text-decoration: none;} .adgl a {color=\\r\\n: rgba(0, 0, 0, 0.87); text-decoration: none;} .afal a {color: #b0b0b0; tex=\\r\\nt-decoration: none;} @media screen and (min-width: 600px) {.v2sp {padding: =\\r\\n6px 30px 0px;} .v2rsp {padding: 0px 10px;}} @media screen and (min-width: 6=\\r\\n00px) {.mdv2rw {padding: 40px 40px;}} </style><link href=3D\"//fonts.googlea=\\r\\npis.com/css?family=3DGoogle+Sans_old\" rel=3D\"stylesheet\" type=3D\"text/css\" =\\r\\nnonce=3D\"+8UZvu73U40RP4PKy0RQmw\"/></head><body style=3D\"margin: 0; padding:=\\r\\n 0;\" bgcolor=3D\"#FFFFFF\"><table width=3D\"100%\" height=3D\"100%\" style=3D\"min=\\r\\n-width: 348px;\" border=3D\"0\" cellspacing=3D\"0\" cellpadding=3D\"0\" lang=3D\"en=\\r\\n\"><tr height=3D\"32\" style=3D\"height: 32px;\"><td></td></tr><tr align=3D\"cent=\\r\\ner\"><td><div itemscope itemtype=3D\"//schema.org/EmailMessage\"><div itemprop=\\r\\n=3D\"action\" itemscope itemtype=3D\"//schema.org/ViewAction\"><link itemprop=\\r\\n=3D\"url\" href=3D\"https://accounts.google.com/AccountChooser?Email=3Dcaprico=\\r\\nrnpranav420@gmail.com&amp;continue=3Dhttps://myaccount.google.com/alert/nt/=\\r\\n1641965705733?rfn%3D20%26rfnc%3D1%26eid%3D-8063740210617868872%26et%3D0%26a=\\r\\nnexp%3Dnret-fa\"/><meta itemprop=3D\"name\" content=3D\"Review Activity\"/></div=\\r\\n></div><table border=3D\"0\" cellspacing=3D\"0\" cellpadding=3D\"0\" style=3D\"pad=\\r\\nding-bottom: 20px; max-width: 516px; min-width: 220px;\"><tr><td width=3D\"8\"=\\r\\n style=3D\"width: 8px;\"></td><td><div style=3D\"border-style: solid; border-w=\\r\\nidth: thin; border-color:#dadce0; border-radius: 8px; padding: 40px 20px;\" =\\r\\nalign=3D\"center\" class=3D\"mdv2rw\"><img src=3D\"https://www.gstatic.com/image=\\r\\ns/branding/googlelogo/2x/googlelogo_color_74x24dp.png\" width=3D\"74\" height=\\r\\n=3D\"24\" aria-hidden=3D\"true\" style=3D\"margin-bottom: 16px;\" alt=3D\"Google\">=\\r\\n<div style=3D\"font-family: &#39;Google Sans&#39;,Roboto,RobotoDraft,Helveti=\\r\\nca,Arial,sans-serif;border-bottom: thin solid #dadce0; color: rgba(0,0,0,0.=\\r\\n87); line-height: 32px; padding-bottom: 24px;text-align: center; word-break=\\r\\n: break-word;\"><div style=3D\"font-size: 24px;\">App password created to sign=\\r\\n in to your account </div><table align=3D\"center\" style=3D\"margin-top:8px;\"=\\r\\n><tr style=3D\"line-height: normal;\"><td align=3D\"right\" style=3D\"padding-ri=\\r\\nght:8px;\"><img width=3D\"20\" height=3D\"20\" style=3D\"width: 20px; height: 20p=\\r\\nx; vertical-align: sub; border-radius: 50%;;\" src=3D\"https://lh3.googleuser=\\r\\ncontent.com/a/AATXAJxEr9MeG1sxT2dUU8mryzMe_YbMQ1JxaabWhtjn=3Ds96\" alt=3D\"\">=\\r\\n</td><td><a style=3D\"font-family: &#39;Google Sans&#39;,Roboto,RobotoDraft,=\\r\\nHelvetica,Arial,sans-serif;color: rgba(0,0,0,0.87); font-size: 14px; line-h=\\r\\neight: 20px;\">capricornpranav420@gmail.com</a></td></tr></table> </div><div=\\r\\n style=3D\"font-family: Roboto-Regular,Helvetica,Arial,sans-serif; font-size=\\r\\n: 14px; color: rgba(0,0,0,0.87); line-height: 20px;padding-top: 20px; text-=\\r\\nalign: left;\">If you didn\\'t generate this password for Viewing, someone mig=\\r\\nht be using your account. Check and secure your account now.<div style=3D\"p=\\r\\nadding-top: 32px; text-align: center;\"><a href=3D\"https://accounts.google.c=\\r\\nom/AccountChooser?Email=3Dcapricornpranav420@gmail.com&amp;continue=3Dhttps=\\r\\n://myaccount.google.com/alert/nt/1641965705733?rfn%3D20%26rfnc%3D1%26eid%3D=\\r\\n-8063740210617868872%26et%3D0%26anexp%3Dnret-fa\" target=3D\"_blank\" link-id=\\r\\n=3D\"main-button-link\" style=3D\"font-family: &#39;Google Sans&#39;,Roboto,Ro=\\r\\nbotoDraft,Helvetica,Arial,sans-serif; line-height: 16px; color: #ffffff; fo=\\r\\nnt-weight: 400; text-decoration: none;font-size: 14px;display:inline-block;=\\r\\npadding: 10px 24px;background-color: #4184F3; border-radius: 5px; min-width=\\r\\n: 90px;\">Check activity</a></div></div><div style=3D\"padding-top: 20px; fon=\\r\\nt-size: 12px; line-height: 16px; color: #5f6368; letter-spacing: 0.3px; tex=\\r\\nt-align: center\">You can also see security activity at<br><a style=3D\"color=\\r\\n: rgba(0, 0, 0, 0.87);text-decoration: inherit;\">https://myaccount.google.c=\\r\\nom/notifications</a></div></div><div style=3D\"text-align: left;\"><div style=\\r\\n=3D\"font-family: Roboto-Regular,Helvetica,Arial,sans-serif;color: rgba(0,0,=\\r\\n0,0.54); font-size: 11px; line-height: 18px; padding-top: 12px; text-align:=\\r\\n center;\"><div>You received this email to let you know about important chan=\\r\\nges to your Google Account and services.</div><div style=3D\"direction: ltr;=\\r\\n\">&copy; 2022 Google LLC, <a class=3D\"afal\" style=3D\"font-family: Roboto-Re=\\r\\ngular,Helvetica,Arial,sans-serif;color: rgba(0,0,0,0.54); font-size: 11px; =\\r\\nline-height: 18px; padding-top: 12px; text-align: center;\">1600 Amphitheatr=\\r\\ne Parkway, Mountain View, CA 94043, USA</a></div></div></div></td><td width=\\r\\n=3D\"8\" style=3D\"width: 8px;\"></td></tr></table></td></tr><tr height=3D\"32\" =\\r\\nstyle=3D\"height: 32px;\"><td></td></tr></table></body></html>\\r\\n--000000000000a73b2f05d55bee53--\\r\\n'"
      ]
     },
     "execution_count": 16,
     "metadata": {},
     "output_type": "execute_result"
    }
   ],
   "source": [
    "mail_data[0][1]"
   ]
  },
  {
   "cell_type": "code",
   "execution_count": null,
   "id": "46aff315",
   "metadata": {},
   "outputs": [],
   "source": []
  }
 ],
 "metadata": {
  "kernelspec": {
   "display_name": "Python 3",
   "language": "python",
   "name": "python3"
  },
  "language_info": {
   "codemirror_mode": {
    "name": "ipython",
    "version": 3
   },
   "file_extension": ".py",
   "mimetype": "text/x-python",
   "name": "python",
   "nbconvert_exporter": "python",
   "pygments_lexer": "ipython3",
   "version": "3.8.8"
  }
 },
 "nbformat": 4,
 "nbformat_minor": 5
}
