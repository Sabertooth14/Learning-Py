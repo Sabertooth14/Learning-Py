{
 "cells": [
  {
   "cell_type": "code",
   "execution_count": 1,
   "id": "ea2907d6",
   "metadata": {},
   "outputs": [
    {
     "data": {
      "text/plain": [
       "True"
      ]
     },
     "execution_count": 1,
     "metadata": {},
     "output_type": "execute_result"
    }
   ],
   "source": [
    "11/2 == 5.5"
   ]
  },
  {
   "cell_type": "code",
   "execution_count": 2,
   "id": "32152e13",
   "metadata": {},
   "outputs": [
    {
     "data": {
      "text/plain": [
       "True"
      ]
     },
     "execution_count": 2,
     "metadata": {},
     "output_type": "execute_result"
    }
   ],
   "source": [
    "5!=88\n"
   ]
  },
  {
   "cell_type": "code",
   "execution_count": 3,
   "id": "f951d79a",
   "metadata": {},
   "outputs": [
    {
     "data": {
      "text/plain": [
       "True"
      ]
     },
     "execution_count": 3,
     "metadata": {},
     "output_type": "execute_result"
    }
   ],
   "source": [
    "55>=54.9"
   ]
  },
  {
   "cell_type": "code",
   "execution_count": 4,
   "id": "06d0a213",
   "metadata": {},
   "outputs": [
    {
     "data": {
      "text/plain": [
       "False"
      ]
     },
     "execution_count": 4,
     "metadata": {},
     "output_type": "execute_result"
    }
   ],
   "source": [
    "4>6 and 6<9"
   ]
  },
  {
   "cell_type": "code",
   "execution_count": 5,
   "id": "85d7ff65",
   "metadata": {},
   "outputs": [
    {
     "data": {
      "text/plain": [
       "True"
      ]
     },
     "execution_count": 5,
     "metadata": {},
     "output_type": "execute_result"
    }
   ],
   "source": [
    "9>6 or 6>9"
   ]
  },
  {
   "cell_type": "code",
   "execution_count": 6,
   "id": "4dd78607",
   "metadata": {},
   "outputs": [
    {
     "data": {
      "text/plain": [
       "True"
      ]
     },
     "execution_count": 6,
     "metadata": {},
     "output_type": "execute_result"
    }
   ],
   "source": [
    "not(4>6)"
   ]
  },
  {
   "cell_type": "code",
   "execution_count": 7,
   "id": "9a0206ea",
   "metadata": {},
   "outputs": [
    {
     "data": {
      "text/plain": [
       "False"
      ]
     },
     "execution_count": 7,
     "metadata": {},
     "output_type": "execute_result"
    }
   ],
   "source": [
    "not(9>6 or 6>9)"
   ]
  },
  {
   "cell_type": "code",
   "execution_count": 8,
   "id": "c6601263",
   "metadata": {},
   "outputs": [],
   "source": [
    "my=\"pranav\""
   ]
  },
  {
   "cell_type": "code",
   "execution_count": 9,
   "id": "86eb64be",
   "metadata": {},
   "outputs": [
    {
     "data": {
      "text/plain": [
       "['pranav']"
      ]
     },
     "execution_count": 9,
     "metadata": {},
     "output_type": "execute_result"
    }
   ],
   "source": [
    "my.split()"
   ]
  },
  {
   "cell_type": "code",
   "execution_count": 10,
   "id": "b6f3c6c6",
   "metadata": {},
   "outputs": [
    {
     "data": {
      "text/plain": [
       "'pranav'"
      ]
     },
     "execution_count": 10,
     "metadata": {},
     "output_type": "execute_result"
    }
   ],
   "source": [
    "my.casefold()"
   ]
  },
  {
   "cell_type": "code",
   "execution_count": 13,
   "id": "ba9ca121",
   "metadata": {},
   "outputs": [
    {
     "data": {
      "text/plain": [
       "'Pranav'"
      ]
     },
     "execution_count": 13,
     "metadata": {},
     "output_type": "execute_result"
    }
   ],
   "source": [
    "my.capitalize()"
   ]
  },
  {
   "cell_type": "code",
   "execution_count": 3,
   "id": "9375bc6d",
   "metadata": {},
   "outputs": [
    {
     "name": "stdout",
     "output_type": "stream",
     "text": [
      "Wrong\n"
     ]
    }
   ],
   "source": [
    "name=\"JP\"\n",
    "\n",
    "if name == \"Aami\":\n",
    "   print(\"Sister\")\n",
    "elif name == \"PK\": \n",
    "   print(\"Hello\")\n",
    "else:\n",
    "    print(\"Wrong\")\n"
   ]
  },
  {
   "cell_type": "code",
   "execution_count": 5,
   "id": "e775d2c4",
   "metadata": {},
   "outputs": [
    {
     "name": "stdout",
     "output_type": "stream",
     "text": [
      "6.0\n"
     ]
    }
   ],
   "source": [
    "n=72\n",
    "if(n%12==0):\n",
    "    print(n/12)\n",
    "else:\n",
    "    print(\"No\")"
   ]
  },
  {
   "cell_type": "code",
   "execution_count": null,
   "id": "a03b361a",
   "metadata": {},
   "outputs": [],
   "source": []
  }
 ],
 "metadata": {
  "kernelspec": {
   "display_name": "Python 3",
   "language": "python",
   "name": "python3"
  },
  "language_info": {
   "codemirror_mode": {
    "name": "ipython",
    "version": 3
   },
   "file_extension": ".py",
   "mimetype": "text/x-python",
   "name": "python",
   "nbconvert_exporter": "python",
   "pygments_lexer": "ipython3",
   "version": "3.8.8"
  }
 },
 "nbformat": 4,
 "nbformat_minor": 5
}
