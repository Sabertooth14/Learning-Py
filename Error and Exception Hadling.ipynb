{
 "cells": [
  {
   "cell_type": "code",
   "execution_count": 4,
   "id": "9548d863",
   "metadata": {},
   "outputs": [],
   "source": [
    "def my_func():\n",
    "    \n",
    "    while True:\n",
    "        try:\n",
    "            num = int(input(\"Please enter a number: \"))\n",
    "            \n",
    "        except:\n",
    "            print(\"Looks like u haven't entered a number\")\n",
    "            #num = int(input(\"Please enter a number: \"))\n",
    "            \n",
    "        else:\n",
    "            print(\"Number has been provided\")\n",
    "            print(num)\n",
    "            break\n",
    "            \n",
    "        finally:\n",
    "            print(\"Execution over\")\n",
    "            "
   ]
  },
  {
   "cell_type": "code",
   "execution_count": 5,
   "id": "b95d3287",
   "metadata": {},
   "outputs": [
    {
     "name": "stdout",
     "output_type": "stream",
     "text": [
      "Please enter a number: 3\n",
      "Number has been provided\n",
      "3\n",
      "Execution over\n"
     ]
    }
   ],
   "source": [
    "my_func()"
   ]
  },
  {
   "cell_type": "code",
   "execution_count": 6,
   "id": "3b1efec8",
   "metadata": {},
   "outputs": [
    {
     "name": "stdout",
     "output_type": "stream",
     "text": [
      "Please enter a number: g\n",
      "Looks like u haven't entered a number\n",
      "Execution over\n",
      "Please enter a number: 5\n",
      "Number has been provided\n",
      "5\n",
      "Execution over\n"
     ]
    }
   ],
   "source": [
    "my_func()"
   ]
  },
  {
   "cell_type": "code",
   "execution_count": 7,
   "id": "a2001377",
   "metadata": {},
   "outputs": [
    {
     "name": "stdout",
     "output_type": "stream",
     "text": [
      "There is an error in running the program\n",
      "End of execution\n"
     ]
    }
   ],
   "source": [
    "try:\n",
    "    nf=open('myfile','r')\n",
    "    nf.write(\"My name is Adam\")\n",
    "    \n",
    "except:\n",
    "    print(\"There is an error in running the program\")\n",
    "\n",
    "else:\n",
    "    print(\"Newfile has been created and updated\")\n",
    "    \n",
    "finally:\n",
    "    print(\"End of execution\")"
   ]
  },
  {
   "cell_type": "code",
   "execution_count": 8,
   "id": "3524e91d",
   "metadata": {},
   "outputs": [
    {
     "name": "stdout",
     "output_type": "stream",
     "text": [
      "Newfile has been created and updated\n",
      "End of execution\n"
     ]
    }
   ],
   "source": [
    "try:\n",
    "    nf=open('myfile','w')\n",
    "    nf.write(\"My name is Adam\")\n",
    "    \n",
    "except:\n",
    "    print(\"There is an error in running the program\")\n",
    "\n",
    "else:\n",
    "    print(\"Newfile has been created and updated\")\n",
    "    \n",
    "finally:\n",
    "    print(\"End of execution\")"
   ]
  },
  {
   "cell_type": "code",
   "execution_count": null,
   "id": "42629376",
   "metadata": {},
   "outputs": [],
   "source": []
  }
 ],
 "metadata": {
  "kernelspec": {
   "display_name": "Python 3",
   "language": "python",
   "name": "python3"
  },
  "language_info": {
   "codemirror_mode": {
    "name": "ipython",
    "version": 3
   },
   "file_extension": ".py",
   "mimetype": "text/x-python",
   "name": "python",
   "nbconvert_exporter": "python",
   "pygments_lexer": "ipython3",
   "version": "3.8.8"
  }
 },
 "nbformat": 4,
 "nbformat_minor": 5
}
